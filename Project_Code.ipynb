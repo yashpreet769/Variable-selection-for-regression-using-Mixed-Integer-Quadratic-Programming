{
 "cells": [
  {
   "cell_type": "markdown",
   "id": "00fbc19b",
   "metadata": {},
   "source": [
    "## Project 3: Non Linear Programming"
   ]
  },
  {
   "cell_type": "markdown",
   "id": "b6bf0810",
   "metadata": {},
   "source": [
    "Team:\n",
    "\n",
    "Jesper Li(jjl3928)\n",
    "\n",
    "Yashpreet Kaur(yk8742)\n",
    "\n",
    "Surya Prasad Reddy(sp49882)\n",
    "    "
   ]
  },
  {
   "cell_type": "code",
   "execution_count": 21,
   "id": "efd30c05",
   "metadata": {},
   "outputs": [],
   "source": [
    "import numpy as np\n",
    "import pandas as pd\n",
    "import gurobipy as gp\n",
    "import seaborn as sns\n",
    "import matplotlib.pyplot as plt\n",
    "from sklearn.linear_model import LassoCV, Lasso\n",
    "from sklearn.model_selection import KFold\n",
    "%matplotlib inline"
   ]
  },
  {
   "cell_type": "code",
   "execution_count": 2,
   "id": "156e5c4e",
   "metadata": {},
   "outputs": [],
   "source": [
    "timelimit=3600"
   ]
  },
  {
   "cell_type": "markdown",
   "id": "da0ec872",
   "metadata": {},
   "source": [
    "## Data Preprocessing"
   ]
  },
  {
   "cell_type": "code",
   "execution_count": 3,
   "id": "93bed394",
   "metadata": {},
   "outputs": [],
   "source": [
    "# Loading the training data into dataframe\n",
    "X_train = pd.read_csv('training_data.csv')\n",
    "y_train=X_train.iloc[:,0]\n",
    "X_train.iloc[:,0]=1\n",
    "X_train = X_train.rename({'y': 'X0'}, axis=1)\n",
    "\n",
    "# Loading the test data into dataframe\n",
    "X_test = pd.read_csv('test_data.csv')\n",
    "y_test=X_test.iloc[:,0]\n",
    "X_test.iloc[:,0]=1\n",
    "X_test = X_test.rename({'y': 'X0'}, axis=1)"
   ]
  },
  {
   "cell_type": "markdown",
   "id": "df952abb",
   "metadata": {},
   "source": [
    "## Direct Variable Selection: MIQP\n",
    "\n",
    "Objective function: $ x^{T}Qx + c^{T}x $<br>\n",
    "s.t.<br> \n",
    "$ Ax  \\le b $<br>\n",
    "$ x  \\ge 0 $\n",
    "\n",
    "\n",
    "\n",
    "Lasso Regression:\n",
    "\n",
    "Decision Variables:\n",
    "1. $ \\beta_{0}, \\beta_{1} ... \\beta_{m}$ - Coefficients - (m+1)\n",
    "2. $ z_{1}, z_{2} ... z_{m}$ - Decison to keep the variable to drop it from regression - (m) <br>\n",
    "\n",
    "Constraints:\n",
    "1. Coefs ($\\beta_{i}$) shoud be within a given range ($|M|$) and should be non-zero iff $z_{i} > 0$ - (2m)\n",
    "2. Total number of coefs in final model should be less than k - (1) <br>\n",
    "\n",
    "Total Constraint equations - 2m +1\n",
    "\n",
    "Objective function for lasso: $$ \\beta^{T}(X^{T}X)\\beta + (-2y^{T}X)\\beta$$<br>\n",
    "s.t.<br> \n",
    "$$ -z_{i}M < \\beta_{i} < z_{i}M $$   for i=1,2...m<br>\n",
    "$$ \\sum_{i=1}^m z_{i} \\le k $$\n",
    "\n",
    "\n",
    "$ Q =(X^{T}X) $<br>\n",
    "$ c =(-2y^{T}X) $"
   ]
  },
  {
   "cell_type": "code",
   "execution_count": 4,
   "id": "c5d42119",
   "metadata": {},
   "outputs": [],
   "source": [
    "\n",
    "# the function will perform MIQP direct variable selection on training data\n",
    "# it returns the sum of squared errors of the test data based on the trianinng model \n",
    "# It returns the preicted values of test data if send_pred is set to 1\n",
    "\n",
    "\n",
    "def MIQP(k,train_x,test_x, train_y,test_y,send_pred):\n",
    "    \n",
    "    # Big M is set to 20\n",
    "    \n",
    "    M=20\n",
    "    \n",
    "    # The size of features and training data set\n",
    "    m=train_x.shape[1]-1\n",
    "    n=train_x.shape[0]\n",
    "    X=train_x.to_numpy()\n",
    "    \n",
    "    # Creating Q matrix\n",
    "    Q=np.zeros((2*m+1,2*m+1))\n",
    "    Q[:m+1,:m+1] = X.T @ X\n",
    "    \n",
    "    # Creating C matric\n",
    "    \n",
    "    C=np.zeros((2*m+1))\n",
    "    C[:m+1]=-2*(train_y.to_numpy()).T@X\n",
    "    \n",
    "    # Creating constraint matrix\n",
    "    A=np.zeros((2*m+1,2*m+1))\n",
    "    b=np.zeros((2*m+1,1))\n",
    "    \n",
    "    for i in range(m):\n",
    "        A[i,i+1]=1\n",
    "        A[i,i+1+m]=M\n",
    "        \n",
    "    for i in range(m):\n",
    "        A[m+i,i+1]=1\n",
    "        A[m+i,i+1+m]=-1*M\n",
    "    \n",
    "    for i in range(m+1,2*m+1):\n",
    "        A[2*m,i]=1\n",
    "    b[2*m]=k\n",
    "    \n",
    "    sense=['>']*m+['<']*(m+1)\n",
    "    \n",
    "    # setting variable types\n",
    "    vtype=['C']*(m+1)+['B']*m\n",
    "    \n",
    "    # setting lower bounds on the coefficients\n",
    "    lb=[-1*M]*(m+1)+[0]*m\n",
    "    \n",
    "    # Initialising the model and optimising using gurobi\n",
    "    model = gp.Model()\n",
    "    modelX = model.addMVar(2*m+1, lb=lb, ub=None, vtype=vtype)\n",
    "    modelConstr = model.addMConstr(A, modelX, sense, b)\n",
    "    model.setMObjective(Q,C,0, sense = gp.GRB.MINIMIZE)\n",
    "    model.Params.OutputFlag = 0\n",
    "    model.Params.timeLimit = timelimit\n",
    "    model.optimize()\n",
    "    \n",
    "    # checking if the coefficients did not breach the big M\n",
    "    coef=modelX.x[:m+1]\n",
    "    for beta in coef:\n",
    "        if beta==M or beta ==-1*M:\n",
    "            print(\"coeff bounded\")\n",
    "    \n",
    "    #returns sum of squared errors based on the test data predictions\n",
    "    if send_pred==0:\n",
    "        return (test_y- test_x @ modelX.x[:m+1]).T@(test_y- test_x @ modelX.x[:m+1])\n",
    "    else:\n",
    "        return (test_y- test_x @ modelX.x[:m+1]).T@(test_y- test_x @ modelX.x[:m+1]), (test_x @ modelX.x[:m+1]),modelX.x[:m+1]\n",
    "        \n",
    "    \n",
    "    \n",
    "    \n",
    "    "
   ]
  },
  {
   "cell_type": "code",
   "execution_count": 5,
   "id": "89903832",
   "metadata": {},
   "outputs": [
    {
     "name": "stdout",
     "output_type": "stream",
     "text": [
      "5\n",
      "Set parameter Username\n",
      "Academic license - for non-commercial use only - expires 2022-09-15\n",
      "10\n",
      "15\n",
      "20\n",
      "25\n",
      "30\n",
      "35\n",
      "40\n",
      "45\n",
      "50\n"
     ]
    }
   ],
   "source": [
    "# all the possible values of k from 5 to 50\n",
    "params_rows=[5*i for i in range(1,11)]\n",
    "\n",
    "# the 10 fold cross validation results\n",
    "params_cols=[i for i in range(1,11)]\n",
    "\n",
    "df=pd.DataFrame(index=params_rows,columns=params_cols)\n",
    "\n",
    "i=0\n",
    "for k in params_rows:\n",
    "    cvnum=0\n",
    "    print(k)\n",
    "    \n",
    "    #10 fold cross validation on K\n",
    "    kf = KFold(10, shuffle=False)#, random_state=1)\n",
    "    \n",
    "    for train_index, test_index in kf.split(X_train):\n",
    "        train_x, test_x = X_train.iloc[train_index,:], X_train.iloc[test_index,:] \n",
    "        train_y, test_y = y_train[train_index], y_train[test_index]\n",
    "        \n",
    "        # storing the values of each cross validation for each value of K in df dataframe\n",
    "        df.iloc[i,cvnum]=MIQP(k,train_x,test_x,train_y,test_y,0)\n",
    "        cvnum+=1\n",
    "    i+=1 \n"
   ]
  },
  {
   "cell_type": "code",
   "execution_count": 6,
   "id": "e7f5d805",
   "metadata": {},
   "outputs": [
    {
     "name": "stdout",
     "output_type": "stream",
     "text": [
      "Best Value of K and SSE is  10    724.787631\n",
      "dtype: float64\n"
     ]
    }
   ],
   "source": [
    "val_sse = df.sum(axis=1)\n",
    "print('Best Value of K and SSE is ',val_sse[val_sse == val_sse.min()])"
   ]
  },
  {
   "cell_type": "markdown",
   "id": "0b95b222",
   "metadata": {},
   "source": [
    "## Cross Validation error(Sum of Squared errors) as function of K"
   ]
  },
  {
   "cell_type": "code",
   "execution_count": 7,
   "id": "36d9e1aa",
   "metadata": {},
   "outputs": [
    {
     "data": {
      "text/html": [
       "<div>\n",
       "<style scoped>\n",
       "    .dataframe tbody tr th:only-of-type {\n",
       "        vertical-align: middle;\n",
       "    }\n",
       "\n",
       "    .dataframe tbody tr th {\n",
       "        vertical-align: top;\n",
       "    }\n",
       "\n",
       "    .dataframe thead th {\n",
       "        text-align: right;\n",
       "    }\n",
       "</style>\n",
       "<table border=\"1\" class=\"dataframe\">\n",
       "  <thead>\n",
       "    <tr style=\"text-align: right;\">\n",
       "      <th></th>\n",
       "      <th>SSE</th>\n",
       "    </tr>\n",
       "  </thead>\n",
       "  <tbody>\n",
       "    <tr>\n",
       "      <th>5</th>\n",
       "      <td>917.479061</td>\n",
       "    </tr>\n",
       "    <tr>\n",
       "      <th>10</th>\n",
       "      <td>724.787631</td>\n",
       "    </tr>\n",
       "    <tr>\n",
       "      <th>15</th>\n",
       "      <td>764.049938</td>\n",
       "    </tr>\n",
       "    <tr>\n",
       "      <th>20</th>\n",
       "      <td>799.012201</td>\n",
       "    </tr>\n",
       "    <tr>\n",
       "      <th>25</th>\n",
       "      <td>770.482828</td>\n",
       "    </tr>\n",
       "    <tr>\n",
       "      <th>30</th>\n",
       "      <td>830.082402</td>\n",
       "    </tr>\n",
       "    <tr>\n",
       "      <th>35</th>\n",
       "      <td>831.104008</td>\n",
       "    </tr>\n",
       "    <tr>\n",
       "      <th>40</th>\n",
       "      <td>847.622598</td>\n",
       "    </tr>\n",
       "    <tr>\n",
       "      <th>45</th>\n",
       "      <td>843.642637</td>\n",
       "    </tr>\n",
       "    <tr>\n",
       "      <th>50</th>\n",
       "      <td>847.184545</td>\n",
       "    </tr>\n",
       "  </tbody>\n",
       "</table>\n",
       "</div>"
      ],
      "text/plain": [
       "           SSE\n",
       "5   917.479061\n",
       "10  724.787631\n",
       "15  764.049938\n",
       "20  799.012201\n",
       "25  770.482828\n",
       "30  830.082402\n",
       "35  831.104008\n",
       "40  847.622598\n",
       "45  843.642637\n",
       "50  847.184545"
      ]
     },
     "execution_count": 7,
     "metadata": {},
     "output_type": "execute_result"
    }
   ],
   "source": [
    "val_sse = pd.DataFrame(data=val_sse,columns=[\"SSE\"])\n",
    "val_sse"
   ]
  },
  {
   "cell_type": "markdown",
   "id": "c805586c",
   "metadata": {},
   "source": [
    "## Plot Cross validation error as function of K"
   ]
  },
  {
   "cell_type": "code",
   "execution_count": 8,
   "id": "794310e4",
   "metadata": {},
   "outputs": [
    {
     "data": {
      "text/plain": [
       "Text(0.5, 1.0, 'Cross Validation error as function of K')"
      ]
     },
     "execution_count": 8,
     "metadata": {},
     "output_type": "execute_result"
    },
    {
     "data": {
      "image/png": "[encoded data removed]",
      "text/plain": [
       "<Figure size 720x432 with 1 Axes>"
      ]
     },
     "metadata": {
      "needs_background": "light"
     },
     "output_type": "display_data"
    }
   ],
   "source": [
    "plt.figure(figsize=(10, 6))\n",
    "plt.plot(params_rows, val_sse)\n",
    "plt.xlabel(\"K\")\n",
    "plt.ylabel(\"Cross Validation error\")\n",
    "plt.title(\"Cross Validation error as function of K\")"
   ]
  },
  {
   "cell_type": "code",
   "execution_count": 9,
   "id": "485863dd",
   "metadata": {},
   "outputs": [],
   "source": [
    "df.to_csv('out1.csv')"
   ]
  },
  {
   "cell_type": "markdown",
   "id": "4ec7ba00",
   "metadata": {},
   "source": [
    "## Direction selction MIQP on the best value of K "
   ]
  },
  {
   "cell_type": "code",
   "execution_count": 10,
   "id": "5e1eeb5e",
   "metadata": {},
   "outputs": [
    {
     "name": "stdout",
     "output_type": "stream",
     "text": [
      "The SSE error on the test data for the best value of K:10 is  116.8271982276263\n"
     ]
    }
   ],
   "source": [
    "err, y_pred_miqp,coef_miqp=MIQP(10,X_train,X_test,y_train,y_test,1)\n",
    "print(\"The SSE error on the test data for the best value of K:10 is \", err)"
   ]
  },
  {
   "cell_type": "markdown",
   "id": "7d7b3703",
   "metadata": {},
   "source": [
    "## Indirect Variable Selection Lasso Regression\n",
    "The Lasso Regression problem is formulated as:\n",
    "\n",
    "$$ \\underset{\\beta,z}min\\sum_{i=1}^n (\\beta_0 + \\beta_1x_{i1} + ... + \\beta_mx_{im} - y_i)^2 + \\lambda\\sum_{j=1}^m|\\beta_j| $$"
   ]
  },
  {
   "cell_type": "code",
   "execution_count": 24,
   "id": "d6dd5031",
   "metadata": {},
   "outputs": [
    {
     "name": "stdout",
     "output_type": "stream",
     "text": [
      "Non-zero Coefficients of Lasso Regression  17\n",
      "The SSE on test data for Indirect Lasso Regression with best aplha 0.07638765995113507  is  117.48173795802897\n"
     ]
    }
   ],
   "source": [
    "# 10 fold cross calidation on the indirect lasso regression\n",
    "cross_val = KFold(n_splits=10, shuffle=False)\n",
    "\n",
    "# fitting the model\n",
    "lasso_regression = LassoCV(cv = cross_val).fit(X_train,y_train)\n",
    "alpha=lasso_regression.alpha_\n",
    "\n",
    "#Lasso regression with best value of alpha\n",
    "\n",
    "lasso_regression = Lasso(alpha=alpha)\n",
    "lasso_regression.fit(X_train,y_train)\n",
    "\n",
    "# Number of Non zero coefficients\n",
    "print('Non-zero Coefficients of Lasso Regression ',   sum(lasso_regression.coef_ != 0))\n",
    "\n",
    "# Predicting the values of test data\n",
    "y_pred = lasso_regression.predict(X_test)\n",
    "err_lasso_reg=(y_test-y_pred).T@(y_test-y_pred)\n",
    "print(\"The SSE on test data for Indirect Lasso Regression with best aplha \" +str(alpha) + \"  is  \" +str(err_lasso_reg))\n"
   ]
  },
  {
   "cell_type": "markdown",
   "id": "334e1978",
   "metadata": {},
   "source": [
    "## Comparison of the Models"
   ]
  },
  {
   "cell_type": "markdown",
   "id": "560c55d0",
   "metadata": {},
   "source": [
    "## Comparison of predicted values of test data of MIQP and indirect Lasso with actual data"
   ]
  },
  {
   "cell_type": "code",
   "execution_count": 26,
   "id": "ce6508b5",
   "metadata": {},
   "outputs": [
    {
     "data": {
      "text/html": [
       "<div>\n",
       "<style scoped>\n",
       "    .dataframe tbody tr th:only-of-type {\n",
       "        vertical-align: middle;\n",
       "    }\n",
       "\n",
       "    .dataframe tbody tr th {\n",
       "        vertical-align: top;\n",
       "    }\n",
       "\n",
       "    .dataframe thead th {\n",
       "        text-align: right;\n",
       "    }\n",
       "</style>\n",
       "<table border=\"1\" class=\"dataframe\">\n",
       "  <thead>\n",
       "    <tr style=\"text-align: right;\">\n",
       "      <th></th>\n",
       "      <th>y_actual</th>\n",
       "      <th>y_pred_miqp</th>\n",
       "      <th>y_pred_lasso</th>\n",
       "    </tr>\n",
       "  </thead>\n",
       "  <tbody>\n",
       "    <tr>\n",
       "      <th>0</th>\n",
       "      <td>7.107949</td>\n",
       "      <td>6.179859</td>\n",
       "      <td>6.076864</td>\n",
       "    </tr>\n",
       "    <tr>\n",
       "      <th>1</th>\n",
       "      <td>5.796272</td>\n",
       "      <td>5.095243</td>\n",
       "      <td>4.918107</td>\n",
       "    </tr>\n",
       "    <tr>\n",
       "      <th>2</th>\n",
       "      <td>1.598651</td>\n",
       "      <td>3.285595</td>\n",
       "      <td>3.227780</td>\n",
       "    </tr>\n",
       "    <tr>\n",
       "      <th>3</th>\n",
       "      <td>2.532953</td>\n",
       "      <td>3.758485</td>\n",
       "      <td>3.571386</td>\n",
       "    </tr>\n",
       "    <tr>\n",
       "      <th>4</th>\n",
       "      <td>0.590685</td>\n",
       "      <td>-0.332975</td>\n",
       "      <td>-0.418499</td>\n",
       "    </tr>\n",
       "  </tbody>\n",
       "</table>\n",
       "</div>"
      ],
      "text/plain": [
       "   y_actual  y_pred_miqp  y_pred_lasso\n",
       "0  7.107949     6.179859      6.076864\n",
       "1  5.796272     5.095243      4.918107\n",
       "2  1.598651     3.285595      3.227780\n",
       "3  2.532953     3.758485      3.571386\n",
       "4  0.590685    -0.332975     -0.418499"
      ]
     },
     "execution_count": 26,
     "metadata": {},
     "output_type": "execute_result"
    }
   ],
   "source": [
    "preds = pd.DataFrame(columns=[\"y_actual\",\"y_pred_miqp\",\"y_pred_lasso\"])\n",
    "preds[\"y_actual\"]=y_test\n",
    "preds[\"y_pred_miqp\"]=y_pred_miqp\n",
    "preds[\"y_pred_lasso\"]=y_pred\n",
    "preds.head()"
   ]
  },
  {
   "cell_type": "markdown",
   "id": "9731936d",
   "metadata": {},
   "source": [
    "## Plot of predictions of MIQP and Indirect Lasso"
   ]
  },
  {
   "cell_type": "code",
   "execution_count": 13,
   "id": "dd845f74",
   "metadata": {},
   "outputs": [
    {
     "data": {
      "text/plain": [
       "Text(0.5, 1.0, 'Comparison of predictions of MIQP and Indirect Lasso with test data')"
      ]
     },
     "execution_count": 13,
     "metadata": {},
     "output_type": "execute_result"
    },
    {
     "data": {
      "image/png": "[encoded data removed]",
      "text/plain": [
       "<Figure size 1120x480 with 1 Axes>"
      ]
     },
     "metadata": {
      "needs_background": "light"
     },
     "output_type": "display_data"
    }
   ],
   "source": [
    "idx=[i for i in range(y_test.shape[0])]\n",
    "plt.figure(figsize=(14, 6), dpi=80)\n",
    "plt.plot(idx, y_pred_miqp, color='r', label='MIQP Lasso')\n",
    "plt.plot(idx, y_pred, color='g', label='Indirect Lasso')\n",
    "#plt.plot(idx, y_test, color='b', label='Actual data')\n",
    "plt.legend()\n",
    "plt.title(\"Comparison of predictions of MIQP and Indirect Lasso with test data\")\n"
   ]
  },
  {
   "cell_type": "markdown",
   "id": "4c70fde8",
   "metadata": {},
   "source": [
    "## Comparison of Coefficients of MIQP and indirect Lasso"
   ]
  },
  {
   "cell_type": "code",
   "execution_count": 14,
   "id": "0be6d4cc",
   "metadata": {},
   "outputs": [
    {
     "data": {
      "text/html": [
       "<div>\n",
       "<style scoped>\n",
       "    .dataframe tbody tr th:only-of-type {\n",
       "        vertical-align: middle;\n",
       "    }\n",
       "\n",
       "    .dataframe tbody tr th {\n",
       "        vertical-align: top;\n",
       "    }\n",
       "\n",
       "    .dataframe thead th {\n",
       "        text-align: right;\n",
       "    }\n",
       "</style>\n",
       "<table border=\"1\" class=\"dataframe\">\n",
       "  <thead>\n",
       "    <tr style=\"text-align: right;\">\n",
       "      <th></th>\n",
       "      <th>coef_miqp</th>\n",
       "      <th>coef_lasso</th>\n",
       "    </tr>\n",
       "  </thead>\n",
       "  <tbody>\n",
       "    <tr>\n",
       "      <th>0</th>\n",
       "      <td>0.972524</td>\n",
       "      <td>0.0</td>\n",
       "    </tr>\n",
       "    <tr>\n",
       "      <th>1</th>\n",
       "      <td>0.000000</td>\n",
       "      <td>-0.0</td>\n",
       "    </tr>\n",
       "    <tr>\n",
       "      <th>2</th>\n",
       "      <td>0.000000</td>\n",
       "      <td>-0.0</td>\n",
       "    </tr>\n",
       "    <tr>\n",
       "      <th>3</th>\n",
       "      <td>0.000000</td>\n",
       "      <td>0.0</td>\n",
       "    </tr>\n",
       "    <tr>\n",
       "      <th>4</th>\n",
       "      <td>0.000000</td>\n",
       "      <td>0.0</td>\n",
       "    </tr>\n",
       "  </tbody>\n",
       "</table>\n",
       "</div>"
      ],
      "text/plain": [
       "   coef_miqp  coef_lasso\n",
       "0   0.972524         0.0\n",
       "1   0.000000        -0.0\n",
       "2   0.000000        -0.0\n",
       "3   0.000000         0.0\n",
       "4   0.000000         0.0"
      ]
     },
     "execution_count": 14,
     "metadata": {},
     "output_type": "execute_result"
    }
   ],
   "source": [
    "coefs = pd.DataFrame(columns=[\"coef_miqp\",\"coef_lasso\"])\n",
    "coefs[\"coef_miqp\"]=coef_miqp\n",
    "coefs[\"coef_lasso\"]=lasso_regression.coef_\n",
    "coefs.head()"
   ]
  },
  {
   "cell_type": "markdown",
   "id": "0179fe5c",
   "metadata": {},
   "source": [
    "## Plot of Coefficients of MIQP and indirect Lasso"
   ]
  },
  {
   "cell_type": "code",
   "execution_count": 15,
   "id": "fb03d317",
   "metadata": {},
   "outputs": [
    {
     "data": {
      "image/png": "[encoded data removed]",
      "text/plain": [
       "<Figure size 1120x480 with 1 Axes>"
      ]
     },
     "metadata": {
      "needs_background": "light"
     },
     "output_type": "display_data"
    }
   ],
   "source": [
    "plt.figure(figsize=(14, 6), dpi=80)\n",
    "coefs = coefs[(coefs['coef_miqp'] != 0) | (coefs['coef_lasso'] != 0)]\n",
    "\n",
    "width = 0.3\n",
    "ind = np.arange(len(coefs))\n",
    "index=[i for i in range(51)]\n",
    "#plt.xticks(ind + width / 2,index )\n",
    "plt.bar(ind, coefs['coef_miqp'], label='Direct Variable selection - MIQP', width=width)\n",
    "plt.bar(ind + width, coefs['coef_lasso'], label='Indirect Variable selection - LASSO', width=width)\n",
    "\n",
    "plt.xlabel('Features')\n",
    "plt.ylabel('coefficient values')\n",
    "plt.title('Comparision of Coefficients for MIQP and Lasso')\n",
    "plt.legend()\n",
    "plt.show()"
   ]
  }
 ],
 "metadata": {
  "kernelspec": {
   "display_name": "Python 3",
   "language": "python",
   "name": "python3"
  },
  "language_info": {
   "codemirror_mode": {
    "name": "ipython",
    "version": 3
   },
   "file_extension": ".py",
   "mimetype": "text/x-python",
   "name": "python",
   "nbconvert_exporter": "python",
   "pygments_lexer": "ipython3",
   "version": "3.8.8"
  }
 },
 "nbformat": 4,
 "nbformat_minor": 5
}
